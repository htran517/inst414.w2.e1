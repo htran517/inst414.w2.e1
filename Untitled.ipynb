{
 "cells": [
  {
   "cell_type": "code",
   "execution_count": 24,
   "id": "1039459b-7ed2-4e03-82e9-965627d162ad",
   "metadata": {},
   "outputs": [
    {
     "name": "stdout",
     "output_type": "stream",
     "text": [
      "6.816666666666665\n"
     ]
    }
   ],
   "source": [
    "import json\n",
    "\n",
    "with open('imdb_movies_1985to2022.json', 'r') as f:\n",
    "    arr = []\n",
    "    for line in f:\n",
    "        this_movie = json.loads(line)\n",
    "        for i in range(len(this_movie['actors'])):\n",
    "            if this_movie['actors'][i][1] == 'Hugh Jackman':\n",
    "                arr.append(this_movie['rating']['avg'])\n",
    "print(sum(arr)/len(arr))"
   ]
  },
  {
   "cell_type": "code",
   "execution_count": null,
   "id": "2c9a664c-34b9-45e4-9926-52c44cd1fdf9",
   "metadata": {},
   "outputs": [],
   "source": []
  }
 ],
 "metadata": {
  "kernelspec": {
   "display_name": "Python 3 (ipykernel)",
   "language": "python",
   "name": "python3"
  },
  "language_info": {
   "codemirror_mode": {
    "name": "ipython",
    "version": 3
   },
   "file_extension": ".py",
   "mimetype": "text/x-python",
   "name": "python",
   "nbconvert_exporter": "python",
   "pygments_lexer": "ipython3",
   "version": "3.10.2"
  }
 },
 "nbformat": 4,
 "nbformat_minor": 5
}
